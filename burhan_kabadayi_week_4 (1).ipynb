{
 "cells": [
  {
   "cell_type": "code",
   "execution_count": 1,
   "id": "500ad1ce-bd6d-4e1d-89a5-9b6f6c7eb3a9",
   "metadata": {},
   "outputs": [],
   "source": [
    "#Question 1: Write a Python program to generate 26 text files named A.txt, B.txt, and so on up to Z.txt."
   ]
  },
  {
   "cell_type": "code",
   "execution_count": 2,
   "id": "bb4573f7-780c-4537-b602-de8507fd9b2a",
   "metadata": {},
   "outputs": [
    {
     "name": "stdout",
     "output_type": "stream",
     "text": [
      "['a', 'b', 'c', 'd', 'e', 'f', 'g', 'h', 'i', 'j', 'k', 'l', 'm', 'n', 'o', 'p', 'q', 'r', 's', 't', 'u', 'v', 'w', 'x', 'y', 'z']\n",
      "['A', 'B', 'C', 'D', 'E', 'F', 'G', 'H', 'I', 'J', 'K', 'L', 'M', 'N', 'O', 'P', 'Q', 'R', 'S', 'T', 'U', 'V', 'W', 'X', 'Y', 'Z']\n"
     ]
    }
   ],
   "source": [
    "import string\n",
    "alphabet_lower = list(string.ascii_lowercase)\n",
    "print(alphabet_lower)\n",
    "alphabet_upper = list(string.ascii_uppercase)\n",
    "print(alphabet_upper)\n"
   ]
  },
  {
   "cell_type": "code",
   "execution_count": 3,
   "id": "6b0fb554-5241-474f-b7f4-d890a8732001",
   "metadata": {},
   "outputs": [],
   "source": [
    "#Question 2: Write a Python program to create a file where all letters"
   ]
  },
  {
   "cell_type": "code",
   "execution_count": 4,
   "id": "ed0026e2-4492-4e45-a6cd-15d7e2c4c05c",
   "metadata": {},
   "outputs": [
    {
     "name": "stdout",
     "output_type": "stream",
     "text": [
      "['A', 'B', 'C', 'D', 'E', 'F', 'G', 'H', 'I', 'J', 'K', 'L', 'M', 'N', 'O', 'P', 'Q', 'R', 'S', 'T', 'U', 'V', 'W', 'X', 'Y', 'Z']\n"
     ]
    }
   ],
   "source": [
    "print(alphabet_upper)\n",
    "# for i in alphabet_upper:\n",
    "#     open(f'{i}.txt', 'w')\n"
   ]
  },
  {
   "cell_type": "code",
   "execution_count": 5,
   "id": "4d085c33-aba9-42de-8058-21c3d6cc8177",
   "metadata": {},
   "outputs": [],
   "source": [
    "# Question 3: Use try/except blocks to verify input entries and warn the user for Nan or non numerical inputs."
   ]
  },
  {
   "cell_type": "code",
   "execution_count": 6,
   "id": "5e8c31d0-80f3-4aae-ab7c-420616cbc5e3",
   "metadata": {},
   "outputs": [
    {
     "name": "stdin",
     "output_type": "stream",
     "text": [
      "Please enter an integer:  2\n",
      "Please enter a second integer:  5\n",
      "Please enter a third integer:  6\n",
      "Please enter a forth integer: 2 3\n"
     ]
    },
    {
     "ename": "NameError",
     "evalue": "name 'math' is not defined",
     "output_type": "error",
     "traceback": [
      "\u001b[1;31m---------------------------------------------------------------------------\u001b[0m",
      "\u001b[1;31mNameError\u001b[0m                                 Traceback (most recent call last)",
      "Input \u001b[1;32mIn [6]\u001b[0m, in \u001b[0;36m<cell line: 1>\u001b[1;34m()\u001b[0m\n\u001b[0;32m      4\u001b[0m     c \u001b[38;5;241m=\u001b[39m \u001b[38;5;28mint\u001b[39m(\u001b[38;5;28minput\u001b[39m(\u001b[38;5;124m'\u001b[39m\u001b[38;5;124mPlease enter a third integer: \u001b[39m\u001b[38;5;124m'\u001b[39m))\n\u001b[0;32m      5\u001b[0m     d \u001b[38;5;241m=\u001b[39m \u001b[38;5;28mint\u001b[39m(\u001b[38;5;28minput\u001b[39m(\u001b[38;5;124m'\u001b[39m\u001b[38;5;124mPlease enter a forth integer: 2\u001b[39m\u001b[38;5;124m'\u001b[39m))\n\u001b[1;32m----> 6\u001b[0m     \u001b[38;5;28mprint\u001b[39m(\u001b[43mmath\u001b[49m\u001b[38;5;241m.\u001b[39mlcm(a, b, c, d))\n\u001b[0;32m      8\u001b[0m \u001b[38;5;28;01mexcept\u001b[39;00m \u001b[38;5;167;01mValueError\u001b[39;00m:\n\u001b[0;32m      9\u001b[0m     \u001b[38;5;28mprint\u001b[39m(\u001b[38;5;124m'\u001b[39m\u001b[38;5;124mPlease enter an integer!\u001b[39m\u001b[38;5;124m'\u001b[39m)\n",
      "\u001b[1;31mNameError\u001b[0m: name 'math' is not defined"
     ]
    }
   ],
   "source": [
    "import math\n",
    "try:\n",
    "    a = int(input('Please enter an integer: '))\n",
    "    b = int(input('Please enter a second integer: '))\n",
    "    c = int(input('Please enter a third integer: '))\n",
    "    d = int(input('Please enter a forth integer: 2'))\n",
    "    print(math.lcm(a, b, c, d))\n",
    "\n",
    "except ValueError:\n",
    "    print('Please enter an integer!')"
   ]
  },
  {
   "cell_type": "code",
   "execution_count": null,
   "id": "8d801fea-81ff-4fc6-a714-fd9684039394",
   "metadata": {},
   "outputs": [],
   "source": [
    "# Question Mis Calculator"
   ]
  },
  {
   "cell_type": "code",
   "execution_count": null,
   "id": "3dded28e-07d9-4c62-a83f-c1879eca9f75",
   "metadata": {},
   "outputs": [],
   "source": [
    "def add(num1, num2):\n",
    "    result = num1+num2\n",
    "    return math.ceil(result)\n",
    "\n",
    "def subt(num1, num2):\n",
    "    result = num1-num2\n",
    "    return math.ceil(result)\n",
    "\n",
    "def div(num1, num2):\n",
    "    if num2 == 0:\n",
    "        print('You can not divide a number with 0')\n",
    "    else:\n",
    "        result = num1/num2\n",
    "        return math.ceil(result)\n",
    "def multipy(num1, num2):\n",
    "    result = num1*num2\n",
    "    return math.ceil(result)\n",
    "try:\n",
    "    num1 = int(input('Please enter an integer!'))\n",
    "    num2= int(input('Please enter an integer!'))\n",
    "    operator = input('Please sellect following operators: Addition (A), Subtraction(S), Multiplication(M) and Division(D)').upper()\n",
    "    if operator == 'A':\n",
    "        print(add(num1, num2))\n",
    "    if operator == 'S':\n",
    "        print(subt(num1, num2))\n",
    "    if operator == 'M':\n",
    "        print(multipy(num1, num2))\n",
    "    if operator == 'D':\n",
    "        print(div(num1, num2))\n",
    "except ZeroDivisionError:\n",
    "    print('Please enter correct value.')\n",
    "    \n",
    "except ValueError:\n",
    "    print('Please enter correct value.')"
   ]
  },
  {
   "cell_type": "code",
   "execution_count": null,
   "id": "b19ae3f4-74db-46dc-accf-d075b3ea4c50",
   "metadata": {},
   "outputs": [],
   "source": []
  },
  {
   "cell_type": "code",
   "execution_count": null,
   "id": "dfadec6b-206f-4a05-b425-641a3457144b",
   "metadata": {},
   "outputs": [],
   "source": []
  },
  {
   "cell_type": "code",
   "execution_count": null,
   "id": "b5fbe77c-f8b5-48ce-bcf0-34a1902d2b3f",
   "metadata": {},
   "outputs": [],
   "source": []
  },
  {
   "cell_type": "code",
   "execution_count": null,
   "id": "ad8c1f7a-13aa-41c6-9cdc-7b7921cc5ebe",
   "metadata": {},
   "outputs": [],
   "source": []
  },
  {
   "cell_type": "code",
   "execution_count": null,
   "id": "f9a4609f-0338-4348-a6b7-e3b7bb028ce2",
   "metadata": {},
   "outputs": [],
   "source": []
  },
  {
   "cell_type": "code",
   "execution_count": null,
   "id": "120bfbb6-46b3-47f7-aa83-8f5059a67d10",
   "metadata": {},
   "outputs": [],
   "source": []
  }
 ],
 "metadata": {
  "kernelspec": {
   "display_name": "Python 3 (ipykernel)",
   "language": "python",
   "name": "python3"
  },
  "language_info": {
   "codemirror_mode": {
    "name": "ipython",
    "version": 3
   },
   "file_extension": ".py",
   "mimetype": "text/x-python",
   "name": "python",
   "nbconvert_exporter": "python",
   "pygments_lexer": "ipython3",
   "version": "3.9.12"
  }
 },
 "nbformat": 4,
 "nbformat_minor": 5
}
